{
 "cells": [
  {
   "cell_type": "markdown",
   "metadata": {},
   "source": [
    "# Task 1\n",
    "\n",
    "---\n",
    "\n",
    "## Data Cleaning\n",
    "\n",
    "Clean the data to remove any unnecessary text from each of the rows. "
   ]
  },
  {
   "cell_type": "code",
   "execution_count": 9,
   "metadata": {},
   "outputs": [
    {
     "name": "stdout",
     "output_type": "stream",
     "text": [
      "                                     cleaned_reviews\n",
      "0  This was our first flight with British Airways...\n",
      "1  I recently encountered a highly disappointing ...\n",
      "2  Beware! BA don't provide any refund due to a v...\n",
      "3  Check in was chaotic and badly organised. Even...\n",
      "4  All 4 of our flights were fine in terms of com...\n",
      "Cleaned data saved to data/BA_reviews_cleaned.csv\n"
     ]
    }
   ],
   "source": [
    "import pandas as pd\n",
    "\n",
    "# Define filepath\n",
    "reviews_filepath = \"data/BA_reviews.csv\"\n",
    "\n",
    "# Load data from the CSV file \n",
    "df = pd.read_csv(reviews_filepath)\n",
    "\n",
    "# Remove Verified/Not Verified and whitespace\n",
    "df[\"cleaned_reviews\"] = df[\"reviews\"] .str.replace(r'(✅ Trip Verified \\|)|(Not Verified \\|)', '', regex = True).str.strip()\n",
    "\n",
    "# Keep cleaned review columns\n",
    "df_cleaned = df[[\"cleaned_reviews\"]]\n",
    "\n",
    "# Print a few rows of the data\n",
    "print(df_cleaned.head())\n",
    "\n",
    "# Save the cleaned DataFrame to new CSV\n",
    "cleaned_csv_filepath = \"data/BA_reviews_cleaned.csv\"\n",
    "df_cleaned.to_csv(cleaned_csv_filepath, index = False)\n",
    "print(f\"Cleaned data saved to {cleaned_csv_filepath}\")\n"
   ]
  }
 ],
 "metadata": {
  "kernelspec": {
   "display_name": "Python 3.9.13 ('venv': venv)",
   "language": "python",
   "name": "python3"
  },
  "language_info": {
   "codemirror_mode": {
    "name": "ipython",
    "version": 3
   },
   "file_extension": ".py",
   "mimetype": "text/x-python",
   "name": "python",
   "nbconvert_exporter": "python",
   "pygments_lexer": "ipython3",
   "version": "3.9.6"
  },
  "orig_nbformat": 4,
  "vscode": {
   "interpreter": {
    "hash": "4f7924c4c56b083e0e50eadfe7ef592a7a8ef70df33a0047f82280e6be1afe15"
   }
  }
 },
 "nbformat": 4,
 "nbformat_minor": 2
}
